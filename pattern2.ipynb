{
  "nbformat": 4,
  "nbformat_minor": 0,
  "metadata": {
    "colab": {
      "provenance": [],
      "authorship_tag": "ABX9TyNiWbnm1r5sV2K/Of2arVvd",
      "include_colab_link": true
    },
    "kernelspec": {
      "name": "python3",
      "display_name": "Python 3"
    },
    "language_info": {
      "name": "python"
    }
  },
  "cells": [
    {
      "cell_type": "markdown",
      "metadata": {
        "id": "view-in-github",
        "colab_type": "text"
      },
      "source": [
        "<a href=\"https://colab.research.google.com/github/omkarmohite123/Pattern_Problem-using-python/blob/main/pattern2.ipynb\" target=\"_parent\"><img src=\"https://colab.research.google.com/assets/colab-badge.svg\" alt=\"Open In Colab\"/></a>"
      ]
    },
    {
      "cell_type": "code",
      "source": [
        "\"\"\"\n",
        "Write a code to generate a half pyramid number pattern.\n",
        "\n",
        "Input Description:\n",
        "Given an even integer R indicates number of rows.\n",
        "\n",
        "Where 1<=R<=100.\n",
        "\n",
        "Output Description:\n",
        "Print the number half pyramid pattern with the size R.\n",
        "\n",
        "Sample Input :\n",
        "5\n",
        "Sample Output :\n",
        "12345\n",
        "4321\n",
        "123\n",
        "21\n",
        "1\n",
        "\n",
        "\"\"\""
      ],
      "metadata": {
        "id": "uGBDlHTJgl9a"
      },
      "execution_count": null,
      "outputs": []
    },
    {
      "cell_type": "code",
      "source": [
        "s=int(input())\n",
        "m=[]\n",
        "d=\"\"\n",
        "for i in range(1,s+1):\n",
        "  for j in range(1,i+1):\n",
        "    d=d+str(j)\n",
        "  m.append(d)\n",
        "  d=\"\"\n",
        "k=m[::-1]\n",
        "v=[]\n",
        "for i in range(len(k)):\n",
        "  if i%2==0:\n",
        "    v.append(k[i])\n",
        "  else:\n",
        "    v.append(k[i][::-1])\n",
        "for i in v:\n",
        "  print(i)"
      ],
      "metadata": {
        "colab": {
          "base_uri": "https://localhost:8080/"
        },
        "id": "Mj63EcW7gzTE",
        "outputId": "0b4d6b28-c540-47a9-89d8-b77103217ff2"
      },
      "execution_count": 2,
      "outputs": [
        {
          "output_type": "stream",
          "name": "stdout",
          "text": [
            "5\n",
            "12345\n",
            "4321\n",
            "123\n",
            "21\n",
            "1\n"
          ]
        }
      ]
    }
  ]
}