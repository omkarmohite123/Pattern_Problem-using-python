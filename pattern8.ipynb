{
  "nbformat": 4,
  "nbformat_minor": 0,
  "metadata": {
    "colab": {
      "provenance": [],
      "authorship_tag": "ABX9TyN01rTdEuohC3IA4dP6liYn",
      "include_colab_link": true
    },
    "kernelspec": {
      "name": "python3",
      "display_name": "Python 3"
    },
    "language_info": {
      "name": "python"
    }
  },
  "cells": [
    {
      "cell_type": "markdown",
      "metadata": {
        "id": "view-in-github",
        "colab_type": "text"
      },
      "source": [
        "<a href=\"https://colab.research.google.com/github/omkarmohite123/Pattern_Problem-using-python/blob/main/pattern8.ipynb\" target=\"_parent\"><img src=\"https://colab.research.google.com/assets/colab-badge.svg\" alt=\"Open In Colab\"/></a>"
      ]
    },
    {
      "cell_type": "code",
      "source": [
        "\"\"\"\n",
        "Write a code to generate a half pyramid number pattern.\n",
        "\n",
        "Input Description:\n",
        "Given an even integer R indicates number of rows.\n",
        "\n",
        "Where 1<=R<=100\n",
        "\n",
        "Output Description:\n",
        "Print the number pattern based on the given integer R.\n",
        "\n",
        "Sample Input :\n",
        "5\n",
        "Sample Output :\n",
        "12345\n",
        "1234\n",
        "123\n",
        "12\n",
        "1\n",
        "\n",
        "\"\"\""
      ],
      "metadata": {
        "id": "ZvAnxGzCi4PE"
      },
      "execution_count": null,
      "outputs": []
    },
    {
      "cell_type": "code",
      "source": [
        "#8\n",
        "s=int(input())\n",
        "m=[]\n",
        "d=\"\"\n",
        "for i in range(1,s+1):\n",
        "  for j in range(1,i+1):\n",
        "    d=d+str(j)\n",
        "  m.append(d)\n",
        "  d=\"\"\n",
        "h=m[::-1]\n",
        "for i in h:\n",
        "  print(i)"
      ],
      "metadata": {
        "colab": {
          "base_uri": "https://localhost:8080/"
        },
        "id": "poegAGNbi4Yv",
        "outputId": "d780cf50-a7d3-4145-9aeb-478b9dae79f0"
      },
      "execution_count": 9,
      "outputs": [
        {
          "output_type": "stream",
          "name": "stdout",
          "text": [
            "5\n",
            "12345\n",
            "1234\n",
            "123\n",
            "12\n",
            "1\n"
          ]
        }
      ]
    }
  ]
}