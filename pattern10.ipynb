{
  "nbformat": 4,
  "nbformat_minor": 0,
  "metadata": {
    "colab": {
      "provenance": [],
      "authorship_tag": "ABX9TyOZJHMAzaP6hxn2TXdM0jP/",
      "include_colab_link": true
    },
    "kernelspec": {
      "name": "python3",
      "display_name": "Python 3"
    },
    "language_info": {
      "name": "python"
    }
  },
  "cells": [
    {
      "cell_type": "markdown",
      "metadata": {
        "id": "view-in-github",
        "colab_type": "text"
      },
      "source": [
        "<a href=\"https://colab.research.google.com/github/omkarmohite123/Pattern_Problem-using-python/blob/main/pattern10.ipynb\" target=\"_parent\"><img src=\"https://colab.research.google.com/assets/colab-badge.svg\" alt=\"Open In Colab\"/></a>"
      ]
    },
    {
      "cell_type": "code",
      "source": [
        "\"\"\"\n",
        "Generate a  full pyramid using numbers.\n",
        "\n",
        "Input Description:\n",
        "Given an integer R indicates number of rows.\n",
        "\n",
        "Where 1<=R<=100.\n",
        "\n",
        "Output Description:\n",
        "Print the full pyramid using numbers based on the given integer R.\n",
        "\n",
        "Sample Input :\n",
        "5\n",
        "Sample Output :\n",
        "    1\n",
        "   232\n",
        "  34543\n",
        " 4567654\n",
        "567898765\n",
        "\n",
        "\"\"\""
      ],
      "metadata": {
        "id": "2xLuvCFpjeAn"
      },
      "execution_count": null,
      "outputs": []
    },
    {
      "cell_type": "code",
      "source": [
        "n=int(input())\n",
        "k = 0\n",
        "count=0\n",
        "count1=0\n",
        "h=\"\"\n",
        "f=[]\n",
        "\n",
        "for i in range(1, n+1):\n",
        "    for space in range(1,(n-i)+1):\n",
        "        h=h+\" \"\n",
        "        count+=1\n",
        "    \n",
        "    while k!=((2*i)-1):\n",
        "        if count<=n-1:\n",
        "            h=h+str(i+k)\n",
        "            count+=1\n",
        "        else:\n",
        "            count1+=1\n",
        "            h=h+str(i+k-(2*count1))\n",
        "        k += 1\n",
        "    f.append(h)\n",
        "    count1=0\n",
        "    count=0\n",
        "    k=0\n",
        "    h=\"\"\n",
        "for i in f:\n",
        "  print(i)\n"
      ],
      "metadata": {
        "colab": {
          "base_uri": "https://localhost:8080/"
        },
        "id": "iXhi6xI3jeI5",
        "outputId": "5be81697-e0d5-42fc-925d-f28ed579f3b6"
      },
      "execution_count": 11,
      "outputs": [
        {
          "output_type": "stream",
          "name": "stdout",
          "text": [
            "5\n",
            "    1\n",
            "   232\n",
            "  34543\n",
            " 4567654\n",
            "567898765\n"
          ]
        }
      ]
    }
  ]
}