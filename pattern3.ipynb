{
  "nbformat": 4,
  "nbformat_minor": 0,
  "metadata": {
    "colab": {
      "provenance": [],
      "authorship_tag": "ABX9TyNRyDcWJ9m7jqVFQgJ1K3bd",
      "include_colab_link": true
    },
    "kernelspec": {
      "name": "python3",
      "display_name": "Python 3"
    },
    "language_info": {
      "name": "python"
    }
  },
  "cells": [
    {
      "cell_type": "markdown",
      "metadata": {
        "id": "view-in-github",
        "colab_type": "text"
      },
      "source": [
        "<a href=\"https://colab.research.google.com/github/omkarmohite123/Pattern_Problem-using-python/blob/main/pattern3.ipynb\" target=\"_parent\"><img src=\"https://colab.research.google.com/assets/colab-badge.svg\" alt=\"Open In Colab\"/></a>"
      ]
    },
    {
      "cell_type": "code",
      "source": [
        "\"\"\"\n",
        "Write a code to generate an inverted half pyramid pattern using stars.\n",
        "\n",
        "Input Description:\n",
        "Given an integer R indicates number of rows.\n",
        "\n",
        "Where 1<=R<=100.\n",
        "\n",
        "Output Description:\n",
        "Print the star inverted pyramid with the given integer R.\n",
        "\n",
        "Sample Input :\n",
        "5\n",
        "Sample Output :\n",
        "*  *  *  *  *\n",
        "*  *  *  *\n",
        "*  *  *\n",
        "*  *\n",
        "*\n",
        "\"\"\""
      ],
      "metadata": {
        "id": "X13nIjDshAn5"
      },
      "execution_count": null,
      "outputs": []
    },
    {
      "cell_type": "code",
      "source": [
        "#3\n",
        "s=int(input())\n",
        "m=[]\n",
        "d=\"\"\n",
        "for i in range(1,s+1):\n",
        "  for j in range(1,i+1):\n",
        "     d=d+\"  \"+\"*\"\n",
        "  m.append(d)\n",
        "  d=\"\"\n",
        "k=m[::-1]\n",
        "g=[]\n",
        "d=\" \"\n",
        "for i in k:\n",
        "   print(i.lstrip())\n"
      ],
      "metadata": {
        "colab": {
          "base_uri": "https://localhost:8080/"
        },
        "id": "zDioThUAhA0S",
        "outputId": "8354597b-a273-4899-aa08-c9dd72a27aec"
      },
      "execution_count": 3,
      "outputs": [
        {
          "output_type": "stream",
          "name": "stdout",
          "text": [
            "5\n",
            "*  *  *  *  *\n",
            "*  *  *  *\n",
            "*  *  *\n",
            "*  *\n",
            "*\n"
          ]
        }
      ]
    }
  ]
}