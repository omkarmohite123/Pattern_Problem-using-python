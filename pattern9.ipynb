{
  "nbformat": 4,
  "nbformat_minor": 0,
  "metadata": {
    "colab": {
      "provenance": [],
      "authorship_tag": "ABX9TyPvY12LhgtBaNS8bZ8AC6go",
      "include_colab_link": true
    },
    "kernelspec": {
      "name": "python3",
      "display_name": "Python 3"
    },
    "language_info": {
      "name": "python"
    }
  },
  "cells": [
    {
      "cell_type": "markdown",
      "metadata": {
        "id": "view-in-github",
        "colab_type": "text"
      },
      "source": [
        "<a href=\"https://colab.research.google.com/github/omkarmohite123/Pattern_Problem-using-python/blob/main/pattern9.ipynb\" target=\"_parent\"><img src=\"https://colab.research.google.com/assets/colab-badge.svg\" alt=\"Open In Colab\"/></a>"
      ]
    },
    {
      "cell_type": "code",
      "source": [
        "\"\"\"\n",
        "Write a code to generate a half pyramid pattern using numbers.\n",
        "\n",
        "Input Description:\n",
        "Given an integer R indicates number of rows.\n",
        "\n",
        "Where 1<=R<=100.\n",
        "\n",
        "Output Description:\n",
        "Print the number half pyramid pattern with the size R.\n",
        "\n",
        "Sample Input :\n",
        "5\n",
        "Sample Output :\n",
        "1\n",
        "22\n",
        "333\n",
        "4444\n",
        "55555\n",
        "\n",
        "\"\"\""
      ],
      "metadata": {
        "id": "y4Ar3FUnjMT0"
      },
      "execution_count": null,
      "outputs": []
    },
    {
      "cell_type": "code",
      "source": [
        "#9\n",
        "s=int(input())\n",
        "m=[]\n",
        "d=\"\"\n",
        "for i in range(1,s+1):\n",
        "  for j in range(1,i+1):\n",
        "    d=d+str(i)\n",
        "  m.append(d)\n",
        "  d=\"\"\n",
        "for i in m:\n",
        "  print(i)"
      ],
      "metadata": {
        "colab": {
          "base_uri": "https://localhost:8080/"
        },
        "id": "1zIvDrhujMfb",
        "outputId": "3c255b03-acb9-49ed-af08-f789e86c6610"
      },
      "execution_count": 10,
      "outputs": [
        {
          "output_type": "stream",
          "name": "stdout",
          "text": [
            "5\n",
            "1\n",
            "22\n",
            "333\n",
            "4444\n",
            "55555\n"
          ]
        }
      ]
    }
  ]
}