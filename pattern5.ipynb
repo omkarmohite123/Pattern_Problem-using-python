{
  "nbformat": 4,
  "nbformat_minor": 0,
  "metadata": {
    "colab": {
      "provenance": [],
      "authorship_tag": "ABX9TyNYKopreR8MOE+fu9pM5/E/",
      "include_colab_link": true
    },
    "kernelspec": {
      "name": "python3",
      "display_name": "Python 3"
    },
    "language_info": {
      "name": "python"
    }
  },
  "cells": [
    {
      "cell_type": "markdown",
      "metadata": {
        "id": "view-in-github",
        "colab_type": "text"
      },
      "source": [
        "<a href=\"https://colab.research.google.com/github/omkarmohite123/Pattern_Problem-using-python/blob/main/pattern5.ipynb\" target=\"_parent\"><img src=\"https://colab.research.google.com/assets/colab-badge.svg\" alt=\"Open In Colab\"/></a>"
      ]
    },
    {
      "cell_type": "code",
      "source": [
        "\"\"\"\n",
        "Generate a hollow inverted half pyramid pattern using numbers.\n",
        "\n",
        "Input Description:\n",
        "Given an integer R indicates number of rows.\n",
        "\n",
        "Where 1<=R<=100.\n",
        "\n",
        "Output Description:\n",
        "Print the hollow Inverted half pyramid pattern using numbers based on the given integer R.\n",
        "\n",
        "Sample Input :\n",
        "5\n",
        "Sample Output :\n",
        "12345\n",
        "1  4\n",
        "1 3\n",
        "12\n",
        "1\n",
        "\n",
        "\"\"\""
      ],
      "metadata": {
        "id": "9dsSlEQUh1UI"
      },
      "execution_count": null,
      "outputs": []
    },
    {
      "cell_type": "code",
      "source": [
        "#5\n",
        "n =int(input())\n",
        "k=[]\n",
        "m=\"\"\n",
        "for i in range(1,n+1):\n",
        "  for j in range(1, i+1):\n",
        "    if(j == 1 or j == i or i == n):\n",
        "      m=m+str(j)\n",
        "    else:\n",
        "      m=m+\" \"\n",
        "  k.append(m)\n",
        "  m=\"\"\n",
        "c=k[::-1]\n",
        "for i in c:\n",
        "  print(i)"
      ],
      "metadata": {
        "colab": {
          "base_uri": "https://localhost:8080/"
        },
        "id": "Q0Vr645hh1qT",
        "outputId": "dc587364-1109-4f37-acc0-278e3fbbea9a"
      },
      "execution_count": 6,
      "outputs": [
        {
          "output_type": "stream",
          "name": "stdout",
          "text": [
            "5\n",
            "12345\n",
            "1  4\n",
            "1 3\n",
            "12\n",
            "1\n"
          ]
        }
      ]
    }
  ]
}