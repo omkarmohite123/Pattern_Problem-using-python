{
  "nbformat": 4,
  "nbformat_minor": 0,
  "metadata": {
    "colab": {
      "provenance": [],
      "authorship_tag": "ABX9TyMl42/me2i/w7AYuai34KID",
      "include_colab_link": true
    },
    "kernelspec": {
      "name": "python3",
      "display_name": "Python 3"
    },
    "language_info": {
      "name": "python"
    }
  },
  "cells": [
    {
      "cell_type": "markdown",
      "metadata": {
        "id": "view-in-github",
        "colab_type": "text"
      },
      "source": [
        "<a href=\"https://colab.research.google.com/github/omkarmohite123/Pattern_Problem-using-python/blob/main/pattern6.ipynb\" target=\"_parent\"><img src=\"https://colab.research.google.com/assets/colab-badge.svg\" alt=\"Open In Colab\"/></a>"
      ]
    },
    {
      "cell_type": "code",
      "source": [
        "\"\"\"\n",
        "Generate a floyd's triangle.\n",
        "\n",
        "Input Description:\n",
        "Given an integer R indicates number of rows.\n",
        "\n",
        "Where 1<=R<=100.\n",
        "\n",
        "Output Description:\n",
        "Print a floyd's triangle based on the given integer R.\n",
        "\n",
        "Sample Input :\n",
        "5\n",
        "Sample Output :\n",
        "1\n",
        "2 3\n",
        "4 5 6\n",
        "7 8 9 10\n",
        "11 12 13 14 15\n",
        "\n",
        "\"\"\""
      ],
      "metadata": {
        "id": "Fbtn7SHBiJTe"
      },
      "execution_count": null,
      "outputs": []
    },
    {
      "cell_type": "code",
      "source": [
        "\n",
        "n=int(input())\n",
        "b=1\n",
        "k=[]\n",
        "m=\"\"\n",
        "for i in range(1,n+1):\n",
        "  for j in range(1,i+1):\n",
        "    m=m+\" \"+str(b)\n",
        "    b+=1\n",
        "    \n",
        "  k.append(m)\n",
        "  m=\"\"\n",
        "for i in k:\n",
        "  print(i.lstrip())"
      ],
      "metadata": {
        "colab": {
          "base_uri": "https://localhost:8080/"
        },
        "id": "_u4iQmjjiJWO",
        "outputId": "bf125cc8-2ff7-4521-82b3-4a917e4965e1"
      },
      "execution_count": 7,
      "outputs": [
        {
          "output_type": "stream",
          "name": "stdout",
          "text": [
            "5\n",
            "1\n",
            "2 3\n",
            "4 5 6\n",
            "7 8 9 10\n",
            "11 12 13 14 15\n"
          ]
        }
      ]
    }
  ]
}