{
  "nbformat": 4,
  "nbformat_minor": 0,
  "metadata": {
    "colab": {
      "provenance": [],
      "authorship_tag": "ABX9TyPWZjDKBgiYOMY1YY4SSR8v",
      "include_colab_link": true
    },
    "kernelspec": {
      "name": "python3",
      "display_name": "Python 3"
    },
    "language_info": {
      "name": "python"
    }
  },
  "cells": [
    {
      "cell_type": "markdown",
      "metadata": {
        "id": "view-in-github",
        "colab_type": "text"
      },
      "source": [
        "<a href=\"https://colab.research.google.com/github/omkarmohite123/Pattern_Problem-using-python/blob/main/pattern11.ipynb\" target=\"_parent\"><img src=\"https://colab.research.google.com/assets/colab-badge.svg\" alt=\"Open In Colab\"/></a>"
      ]
    },
    {
      "cell_type": "code",
      "source": [
        "\"\"\"\n",
        "Write a code to generate a aplhabet half pyramid pattern.\n",
        "\n",
        "Input Description:\n",
        "Given an integer R indicates number of rows.\n",
        "\n",
        "Where 1<=R<=26.\n",
        "\n",
        "Output Description:\n",
        "Print the alphabet half pyramid pattern according to the given integer R.\n",
        "\n",
        "Sample Input :\n",
        "5\n",
        "Sample Output :\n",
        "EEEEE\n",
        " DDDD\n",
        "  CCC\n",
        "   BB\n",
        "    A\n",
        "\n",
        "\"\"\""
      ],
      "metadata": {
        "id": "n-jo94RyVx7b"
      },
      "execution_count": null,
      "outputs": []
    },
    {
      "cell_type": "code",
      "source": [
        "\n",
        "n=int(input())\n",
        "k=\"\"\n",
        "m=[]\n",
        "for i in range(n):\n",
        "  for j in range(i):\n",
        "    k=k+\" \"\n",
        "  for j in range(n-i):\n",
        "    k=k+chr(65+n-i-1)\n",
        "  m.append(k)\n",
        "  k=\"\"\n",
        "for i in m:\n",
        "  print(i)\n"
      ],
      "metadata": {
        "colab": {
          "base_uri": "https://localhost:8080/"
        },
        "outputId": "a55510c2-a14b-46bd-f681-1968155cffa5",
        "id": "PDuZLI6eVzcv"
      },
      "execution_count": null,
      "outputs": [
        {
          "output_type": "stream",
          "name": "stdout",
          "text": [
            "5\n",
            "EEEEE\n",
            " DDDD\n",
            "  CCC\n",
            "   BB\n",
            "    A\n"
          ]
        }
      ]
    }
  ]
}